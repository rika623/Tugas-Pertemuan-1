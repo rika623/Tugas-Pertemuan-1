{
 "cells": [
  {
   "cell_type": "code",
   "execution_count": 20,
   "id": "9161eed9-4e8b-40c2-883a-8191cbdd8513",
   "metadata": {},
   "outputs": [],
   "source": [
    "from functools import reduce"
   ]
  },
  {
   "cell_type": "code",
   "execution_count": 21,
   "id": "d75c321f-5dd2-44c2-8b5f-bcdede5d70c9",
   "metadata": {},
   "outputs": [],
   "source": [
    "def caesar_encrypt(password):\n",
    "    ascii_values = [ord(char) for char in password]\n",
    "    encrypt_values = [(chr((value//26)+80), chr(value%26+80), '+' if value//26 > value%26 else '-') for value in ascii_values]\n",
    "    encrypted_password = reduce(lambda acc, val: acc+val[0]+val[1]+val[2], encrypt_values, '')\n",
    "    return encrypted_password"
   ]
  },
  {
   "cell_type": "code",
   "execution_count": 22,
   "id": "642789b5-e7c3-4628-a2ee-2535c981368e",
   "metadata": {},
   "outputs": [
    {
     "name": "stdin",
     "output_type": "stream",
     "text": [
      "Masukkan password:  rikaadshfhjgkjh124546\n"
     ]
    }
   ],
   "source": [
    "password = input(\"Masukkan password: \")"
   ]
  },
  {
   "cell_type": "code",
   "execution_count": 23,
   "id": "1a63f604-9290-40dd-8a8c-ea9b79ec4f2e",
   "metadata": {},
   "outputs": [],
   "source": [
    "encrypted_password = caesar_encrypt(password)"
   ]
  },
  {
   "cell_type": "code",
   "execution_count": 24,
   "id": "f4c6c6e6-cad4-48ad-8505-40725a90ff77",
   "metadata": {},
   "outputs": [
    {
     "name": "stdout",
     "output_type": "stream",
     "text": [
      "Password:  rikaadshfhjgkjh124546\n"
     ]
    }
   ],
   "source": [
    "print(\"Password: \", password)"
   ]
  },
  {
   "cell_type": "code",
   "execution_count": 25,
   "id": "c4a1051c-d9b4-49fd-9c9e-9c52be4b6bc3",
   "metadata": {},
   "outputs": [
    {
     "name": "stdout",
     "output_type": "stream",
     "text": [
      "Password Terenkripsi:  TZ-TQ+TS+Sc-Sc-Sf-T[-TP+Sh-TP+TR+Si-TS+TR+TP+Qg-Qh-RP+RQ+RP+RR-\n"
     ]
    }
   ],
   "source": [
    "print(\"Password Terenkripsi: \", encrypted_password)"
   ]
  }
 ],
 "metadata": {
  "kernelspec": {
   "display_name": "Python 3 (ipykernel)",
   "language": "python",
   "name": "python3"
  },
  "language_info": {
   "codemirror_mode": {
    "name": "ipython",
    "version": 3
   },
   "file_extension": ".py",
   "mimetype": "text/x-python",
   "name": "python",
   "nbconvert_exporter": "python",
   "pygments_lexer": "ipython3",
   "version": "3.9.7"
  }
 },
 "nbformat": 4,
 "nbformat_minor": 5
}
